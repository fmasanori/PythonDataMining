{
 "cells": [
  {
   "cell_type": "code",
   "execution_count": 5,
   "metadata": {},
   "outputs": [],
   "source": [
    "import pandas as pd\n",
    "import numpy as np\n",
    "import matplotlib.pyplot as plt\n",
    "%matplotlib inline"
   ]
  },
  {
   "cell_type": "code",
   "execution_count": 6,
   "metadata": {},
   "outputs": [],
   "source": [
    "pd.options.display.max_columns = 80\n",
    "pd.options.display.max_rows = 90"
   ]
  },
  {
   "cell_type": "code",
   "execution_count": 7,
   "metadata": {},
   "outputs": [],
   "source": [
    "filename = r'../Datafiles/Respiradores_em_2019.csv'\n",
    "\n",
    "data_table = pd.read_csv(filename, delimiter=',',error_bad_lines=False)\n",
    " "
   ]
  },
  {
   "cell_type": "code",
   "execution_count": 8,
   "metadata": {},
   "outputs": [
    {
     "data": {
      "text/plain": [
       "(5570, 11)"
      ]
     },
     "execution_count": 8,
     "metadata": {},
     "output_type": "execute_result"
    }
   ],
   "source": [
    "data_table.shape"
   ]
  },
  {
   "cell_type": "code",
   "execution_count": 9,
   "metadata": {},
   "outputs": [
    {
     "name": "stdout",
     "output_type": "stream",
     "text": [
      "<class 'pandas.core.frame.DataFrame'>\n",
      "RangeIndex: 5570 entries, 0 to 5569\n",
      "Data columns (total 11 columns):\n",
      " #   Column                           Non-Null Count  Dtype  \n",
      "---  ------                           --------------  -----  \n",
      " 0   OBJECTID                         5570 non-null   int64  \n",
      " 1   Codigo_Municipio                 5570 non-null   int64  \n",
      " 2   Nome_municipio                   5570 non-null   object \n",
      " 3   Pop_Total                        5570 non-null   int64  \n",
      " 4   Total_Respiradores               5570 non-null   int64  \n",
      " 5   Respiradores_100mil_hab_Ind      5570 non-null   float64\n",
      " 6   Respiradores_SUS_100mil_hab_Ind  5570 non-null   float64\n",
      " 7   Total_SUS_Respiradores           5570 non-null   int64  \n",
      " 8   Shape__Area                      5570 non-null   float64\n",
      " 9   Shape__Length                    5570 non-null   float64\n",
      " 10  P_Respiradores_SUS               5570 non-null   float64\n",
      "dtypes: float64(5), int64(5), object(1)\n",
      "memory usage: 478.8+ KB\n"
     ]
    }
   ],
   "source": [
    "data_table.info()"
   ]
  },
  {
   "cell_type": "code",
   "execution_count": 10,
   "metadata": {},
   "outputs": [
    {
     "data": {
      "text/html": [
       "<div>\n",
       "<style scoped>\n",
       "    .dataframe tbody tr th:only-of-type {\n",
       "        vertical-align: middle;\n",
       "    }\n",
       "\n",
       "    .dataframe tbody tr th {\n",
       "        vertical-align: top;\n",
       "    }\n",
       "\n",
       "    .dataframe thead th {\n",
       "        text-align: right;\n",
       "    }\n",
       "</style>\n",
       "<table border=\"1\" class=\"dataframe\">\n",
       "  <thead>\n",
       "    <tr style=\"text-align: right;\">\n",
       "      <th></th>\n",
       "      <th>OBJECTID</th>\n",
       "      <th>Codigo_Municipio</th>\n",
       "      <th>Nome_municipio</th>\n",
       "      <th>Pop_Total</th>\n",
       "      <th>Total_Respiradores</th>\n",
       "      <th>Respiradores_100mil_hab_Ind</th>\n",
       "      <th>Respiradores_SUS_100mil_hab_Ind</th>\n",
       "      <th>Total_SUS_Respiradores</th>\n",
       "      <th>Shape__Area</th>\n",
       "      <th>Shape__Length</th>\n",
       "      <th>P_Respiradores_SUS</th>\n",
       "    </tr>\n",
       "  </thead>\n",
       "  <tbody>\n",
       "    <tr>\n",
       "      <th>2202</th>\n",
       "      <td>2203</td>\n",
       "      <td>2506806</td>\n",
       "      <td>Ingá</td>\n",
       "      <td>18103</td>\n",
       "      <td>0</td>\n",
       "      <td>0.000000</td>\n",
       "      <td>0.000000</td>\n",
       "      <td>0</td>\n",
       "      <td>0.021914</td>\n",
       "      <td>0.902736</td>\n",
       "      <td>0.000000</td>\n",
       "    </tr>\n",
       "    <tr>\n",
       "      <th>5182</th>\n",
       "      <td>5183</td>\n",
       "      <td>2112001</td>\n",
       "      <td>Tasso Fragoso</td>\n",
       "      <td>8521</td>\n",
       "      <td>0</td>\n",
       "      <td>0.000000</td>\n",
       "      <td>0.000000</td>\n",
       "      <td>0</td>\n",
       "      <td>0.359778</td>\n",
       "      <td>3.875809</td>\n",
       "      <td>0.000000</td>\n",
       "    </tr>\n",
       "    <tr>\n",
       "      <th>1665</th>\n",
       "      <td>1666</td>\n",
       "      <td>3123700</td>\n",
       "      <td>Engenheiro Caldas</td>\n",
       "      <td>11134</td>\n",
       "      <td>0</td>\n",
       "      <td>0.000000</td>\n",
       "      <td>0.000000</td>\n",
       "      <td>0</td>\n",
       "      <td>0.016062</td>\n",
       "      <td>1.038236</td>\n",
       "      <td>0.000000</td>\n",
       "    </tr>\n",
       "    <tr>\n",
       "      <th>3586</th>\n",
       "      <td>3587</td>\n",
       "      <td>2310407</td>\n",
       "      <td>Paramoti</td>\n",
       "      <td>12226</td>\n",
       "      <td>0</td>\n",
       "      <td>0.000000</td>\n",
       "      <td>0.000000</td>\n",
       "      <td>0</td>\n",
       "      <td>0.039307</td>\n",
       "      <td>1.135752</td>\n",
       "      <td>0.000000</td>\n",
       "    </tr>\n",
       "    <tr>\n",
       "      <th>252</th>\n",
       "      <td>253</td>\n",
       "      <td>1300102</td>\n",
       "      <td>Anori</td>\n",
       "      <td>21010</td>\n",
       "      <td>0</td>\n",
       "      <td>0.000000</td>\n",
       "      <td>0.000000</td>\n",
       "      <td>0</td>\n",
       "      <td>0.491692</td>\n",
       "      <td>6.536905</td>\n",
       "      <td>0.000000</td>\n",
       "    </tr>\n",
       "    <tr>\n",
       "      <th>4426</th>\n",
       "      <td>4427</td>\n",
       "      <td>1506559</td>\n",
       "      <td>Santa Luzia do Pará</td>\n",
       "      <td>19848</td>\n",
       "      <td>1</td>\n",
       "      <td>5.038291</td>\n",
       "      <td>5.038291</td>\n",
       "      <td>1</td>\n",
       "      <td>0.110218</td>\n",
       "      <td>2.721596</td>\n",
       "      <td>100.000000</td>\n",
       "    </tr>\n",
       "    <tr>\n",
       "      <th>160</th>\n",
       "      <td>161</td>\n",
       "      <td>4100608</td>\n",
       "      <td>Alto Paraná</td>\n",
       "      <td>14770</td>\n",
       "      <td>0</td>\n",
       "      <td>0.000000</td>\n",
       "      <td>0.000000</td>\n",
       "      <td>0</td>\n",
       "      <td>0.035930</td>\n",
       "      <td>1.005919</td>\n",
       "      <td>0.000000</td>\n",
       "    </tr>\n",
       "    <tr>\n",
       "      <th>1505</th>\n",
       "      <td>1506</td>\n",
       "      <td>2909901</td>\n",
       "      <td>Curaçá</td>\n",
       "      <td>34700</td>\n",
       "      <td>1</td>\n",
       "      <td>2.881844</td>\n",
       "      <td>2.881844</td>\n",
       "      <td>1</td>\n",
       "      <td>0.488393</td>\n",
       "      <td>3.892568</td>\n",
       "      <td>100.000000</td>\n",
       "    </tr>\n",
       "    <tr>\n",
       "      <th>3963</th>\n",
       "      <td>3964</td>\n",
       "      <td>3540705</td>\n",
       "      <td>Porto Ferreira</td>\n",
       "      <td>56150</td>\n",
       "      <td>11</td>\n",
       "      <td>19.590383</td>\n",
       "      <td>17.809439</td>\n",
       "      <td>10</td>\n",
       "      <td>0.021396</td>\n",
       "      <td>0.782221</td>\n",
       "      <td>90.909091</td>\n",
       "    </tr>\n",
       "    <tr>\n",
       "      <th>3054</th>\n",
       "      <td>3055</td>\n",
       "      <td>2206209</td>\n",
       "      <td>Miguel Alves</td>\n",
       "      <td>33760</td>\n",
       "      <td>1</td>\n",
       "      <td>2.962085</td>\n",
       "      <td>2.962085</td>\n",
       "      <td>1</td>\n",
       "      <td>0.113529</td>\n",
       "      <td>1.506857</td>\n",
       "      <td>100.000000</td>\n",
       "    </tr>\n",
       "  </tbody>\n",
       "</table>\n",
       "</div>"
      ],
      "text/plain": [
       "      OBJECTID  Codigo_Municipio       Nome_municipio  Pop_Total  \\\n",
       "2202      2203           2506806                 Ingá      18103   \n",
       "5182      5183           2112001        Tasso Fragoso       8521   \n",
       "1665      1666           3123700    Engenheiro Caldas      11134   \n",
       "3586      3587           2310407             Paramoti      12226   \n",
       "252        253           1300102                Anori      21010   \n",
       "4426      4427           1506559  Santa Luzia do Pará      19848   \n",
       "160        161           4100608          Alto Paraná      14770   \n",
       "1505      1506           2909901               Curaçá      34700   \n",
       "3963      3964           3540705       Porto Ferreira      56150   \n",
       "3054      3055           2206209         Miguel Alves      33760   \n",
       "\n",
       "      Total_Respiradores  Respiradores_100mil_hab_Ind  \\\n",
       "2202                   0                     0.000000   \n",
       "5182                   0                     0.000000   \n",
       "1665                   0                     0.000000   \n",
       "3586                   0                     0.000000   \n",
       "252                    0                     0.000000   \n",
       "4426                   1                     5.038291   \n",
       "160                    0                     0.000000   \n",
       "1505                   1                     2.881844   \n",
       "3963                  11                    19.590383   \n",
       "3054                   1                     2.962085   \n",
       "\n",
       "      Respiradores_SUS_100mil_hab_Ind  Total_SUS_Respiradores  Shape__Area  \\\n",
       "2202                         0.000000                       0     0.021914   \n",
       "5182                         0.000000                       0     0.359778   \n",
       "1665                         0.000000                       0     0.016062   \n",
       "3586                         0.000000                       0     0.039307   \n",
       "252                          0.000000                       0     0.491692   \n",
       "4426                         5.038291                       1     0.110218   \n",
       "160                          0.000000                       0     0.035930   \n",
       "1505                         2.881844                       1     0.488393   \n",
       "3963                        17.809439                      10     0.021396   \n",
       "3054                         2.962085                       1     0.113529   \n",
       "\n",
       "      Shape__Length  P_Respiradores_SUS  \n",
       "2202       0.902736            0.000000  \n",
       "5182       3.875809            0.000000  \n",
       "1665       1.038236            0.000000  \n",
       "3586       1.135752            0.000000  \n",
       "252        6.536905            0.000000  \n",
       "4426       2.721596          100.000000  \n",
       "160        1.005919            0.000000  \n",
       "1505       3.892568          100.000000  \n",
       "3963       0.782221           90.909091  \n",
       "3054       1.506857          100.000000  "
      ]
     },
     "execution_count": 10,
     "metadata": {},
     "output_type": "execute_result"
    }
   ],
   "source": [
    "data_table.sample(10)"
   ]
  },
  {
   "cell_type": "code",
   "execution_count": 11,
   "metadata": {
    "scrolled": false
   },
   "outputs": [
    {
     "data": {
      "text/plain": [
       "Nome_municipio\n",
       "São Paulo             12252023\n",
       "Rio de Janeiro         6718903\n",
       "Brasília               3015268\n",
       "Salvador               2872347\n",
       "Fortaleza              2669342\n",
       "                        ...   \n",
       "Oliveira de Fátima        1112\n",
       "Engenho Velho             1034\n",
       "Araguainha                 935\n",
       "Borá                       837\n",
       "Serra da Saudade           781\n",
       "Name: Pop_Total, Length: 5298, dtype: int64"
      ]
     },
     "execution_count": 11,
     "metadata": {},
     "output_type": "execute_result"
    }
   ],
   "source": [
    "data_table.groupby('Nome_municipio')['Pop_Total'].max().sort_values(ascending=False)"
   ]
  },
  {
   "cell_type": "code",
   "execution_count": 14,
   "metadata": {},
   "outputs": [
    {
     "data": {
      "text/plain": [
       "<AxesSubplot:ylabel='Nome_municipio'>"
      ]
     },
     "execution_count": 14,
     "metadata": {},
     "output_type": "execute_result"
    },
    {
     "data": {
      "image/png": "[encoded data removed]",
      "text/plain": [
       "<Figure size 432x288 with 1 Axes>"
      ]
     },
     "metadata": {
      "needs_background": "light"
     },
     "output_type": "display_data"
    }
   ],
   "source": [
    "data_table.groupby('Nome_municipio')['Pop_Total'].max().sort_values().tail(10).plot(kind='barh')"
   ]
  },
  {
   "cell_type": "code",
   "execution_count": 33,
   "metadata": {},
   "outputs": [
    {
     "data": {
      "text/plain": [
       "<AxesSubplot:xlabel='Nome_municipio'>"
      ]
     },
     "execution_count": 33,
     "metadata": {},
     "output_type": "execute_result"
    },
    {
     "data": {
      "image/png": "[encoded data removed]",
      "text/plain": [
       "<Figure size 432x288 with 1 Axes>"
      ]
     },
     "metadata": {
      "needs_background": "light"
     },
     "output_type": "display_data"
    }
   ],
   "source": [
    "municipios = data_table.query('Codigo_Municipio > 1')\n",
    "municipios.sort_values(by=['Total_Respiradores']).tail(15).plot(kind='bar',x='Nome_municipio',y='Total_Respiradores',color='GREEN')"
   ]
  },
  {
   "cell_type": "code",
   "execution_count": null,
   "metadata": {},
   "outputs": [],
   "source": []
  }
 ],
 "metadata": {
  "kernelspec": {
   "display_name": "Python 3",
   "language": "python",
   "name": "python3"
  },
  "language_info": {
   "codemirror_mode": {
    "name": "ipython",
    "version": 3
   },
   "file_extension": ".py",
   "mimetype": "text/x-python",
   "name": "python",
   "nbconvert_exporter": "python",
   "pygments_lexer": "ipython3",
   "version": "3.8.5"
  }
 },
 "nbformat": 4,
 "nbformat_minor": 4
}
